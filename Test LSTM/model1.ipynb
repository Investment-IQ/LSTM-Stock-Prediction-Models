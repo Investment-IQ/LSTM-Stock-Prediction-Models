{
 "cells": [
  {
   "cell_type": "code",
   "execution_count": 2,
   "metadata": {},
   "outputs": [],
   "source": [
    "import tensorflow as tf\n",
    "import pandas as pd\n",
    "import numpy as np\n",
    "import matplotlib.pyplot as plt\n",
    "from sklearn.preprocessing import MinMaxScaler\n",
    "from sklearn.metrics import mean_squared_error\n",
    "from sklearn.metrics import mean_absolute_error\n",
    "from sklearn.model_selection import train_test_split\n",
    "from keras.callbacks import EarlyStopping"
   ]
  },
  {
   "cell_type": "code",
   "execution_count": 3,
   "metadata": {},
   "outputs": [
    {
     "data": {
      "text/html": [
       "<div>\n",
       "<style scoped>\n",
       "    .dataframe tbody tr th:only-of-type {\n",
       "        vertical-align: middle;\n",
       "    }\n",
       "\n",
       "    .dataframe tbody tr th {\n",
       "        vertical-align: top;\n",
       "    }\n",
       "\n",
       "    .dataframe thead th {\n",
       "        text-align: right;\n",
       "    }\n",
       "</style>\n",
       "<table border=\"1\" class=\"dataframe\">\n",
       "  <thead>\n",
       "    <tr style=\"text-align: right;\">\n",
       "      <th></th>\n",
       "      <th>Date</th>\n",
       "      <th>Open</th>\n",
       "      <th>High</th>\n",
       "      <th>Low</th>\n",
       "      <th>Close</th>\n",
       "      <th>Adj Close</th>\n",
       "      <th>Volume</th>\n",
       "    </tr>\n",
       "  </thead>\n",
       "  <tbody>\n",
       "    <tr>\n",
       "      <th>0</th>\n",
       "      <td>2017-04-17</td>\n",
       "      <td>276.549988</td>\n",
       "      <td>282.500000</td>\n",
       "      <td>275.549988</td>\n",
       "      <td>279.100006</td>\n",
       "      <td>224.979813</td>\n",
       "      <td>4831017</td>\n",
       "    </tr>\n",
       "    <tr>\n",
       "      <th>1</th>\n",
       "      <td>2017-04-18</td>\n",
       "      <td>280.200012</td>\n",
       "      <td>284.000000</td>\n",
       "      <td>278.100006</td>\n",
       "      <td>279.049988</td>\n",
       "      <td>224.939514</td>\n",
       "      <td>4330981</td>\n",
       "    </tr>\n",
       "    <tr>\n",
       "      <th>2</th>\n",
       "      <td>2017-04-19</td>\n",
       "      <td>281.149994</td>\n",
       "      <td>281.500000</td>\n",
       "      <td>277.850006</td>\n",
       "      <td>278.700012</td>\n",
       "      <td>224.657410</td>\n",
       "      <td>4952956</td>\n",
       "    </tr>\n",
       "    <tr>\n",
       "      <th>3</th>\n",
       "      <td>2017-04-20</td>\n",
       "      <td>279.700012</td>\n",
       "      <td>281.500000</td>\n",
       "      <td>278.350006</td>\n",
       "      <td>279.500000</td>\n",
       "      <td>225.302277</td>\n",
       "      <td>4237611</td>\n",
       "    </tr>\n",
       "    <tr>\n",
       "      <th>4</th>\n",
       "      <td>2017-04-21</td>\n",
       "      <td>282.000000</td>\n",
       "      <td>282.000000</td>\n",
       "      <td>272.700012</td>\n",
       "      <td>274.350006</td>\n",
       "      <td>221.150909</td>\n",
       "      <td>8706432</td>\n",
       "    </tr>\n",
       "    <tr>\n",
       "      <th>...</th>\n",
       "      <td>...</td>\n",
       "      <td>...</td>\n",
       "      <td>...</td>\n",
       "      <td>...</td>\n",
       "      <td>...</td>\n",
       "      <td>...</td>\n",
       "      <td>...</td>\n",
       "    </tr>\n",
       "    <tr>\n",
       "      <th>1478</th>\n",
       "      <td>2023-04-06</td>\n",
       "      <td>386.649994</td>\n",
       "      <td>390.299988</td>\n",
       "      <td>384.200012</td>\n",
       "      <td>387.350006</td>\n",
       "      <td>387.350006</td>\n",
       "      <td>12897667</td>\n",
       "    </tr>\n",
       "    <tr>\n",
       "      <th>1479</th>\n",
       "      <td>2023-04-10</td>\n",
       "      <td>387.350006</td>\n",
       "      <td>390.000000</td>\n",
       "      <td>384.750000</td>\n",
       "      <td>388.549988</td>\n",
       "      <td>388.549988</td>\n",
       "      <td>6783022</td>\n",
       "    </tr>\n",
       "    <tr>\n",
       "      <th>1480</th>\n",
       "      <td>2023-04-11</td>\n",
       "      <td>388.549988</td>\n",
       "      <td>398.100006</td>\n",
       "      <td>388.000000</td>\n",
       "      <td>396.000000</td>\n",
       "      <td>396.000000</td>\n",
       "      <td>18237451</td>\n",
       "    </tr>\n",
       "    <tr>\n",
       "      <th>1481</th>\n",
       "      <td>2023-04-12</td>\n",
       "      <td>397.750000</td>\n",
       "      <td>397.799988</td>\n",
       "      <td>392.100006</td>\n",
       "      <td>393.549988</td>\n",
       "      <td>393.549988</td>\n",
       "      <td>9747526</td>\n",
       "    </tr>\n",
       "    <tr>\n",
       "      <th>1482</th>\n",
       "      <td>2023-04-13</td>\n",
       "      <td>395.500000</td>\n",
       "      <td>396.600006</td>\n",
       "      <td>393.700012</td>\n",
       "      <td>395.600006</td>\n",
       "      <td>395.600006</td>\n",
       "      <td>6059044</td>\n",
       "    </tr>\n",
       "  </tbody>\n",
       "</table>\n",
       "<p>1483 rows × 7 columns</p>\n",
       "</div>"
      ],
      "text/plain": [
       "            Date        Open        High         Low       Close   Adj Close  \\\n",
       "0     2017-04-17  276.549988  282.500000  275.549988  279.100006  224.979813   \n",
       "1     2017-04-18  280.200012  284.000000  278.100006  279.049988  224.939514   \n",
       "2     2017-04-19  281.149994  281.500000  277.850006  278.700012  224.657410   \n",
       "3     2017-04-20  279.700012  281.500000  278.350006  279.500000  225.302277   \n",
       "4     2017-04-21  282.000000  282.000000  272.700012  274.350006  221.150909   \n",
       "...          ...         ...         ...         ...         ...         ...   \n",
       "1478  2023-04-06  386.649994  390.299988  384.200012  387.350006  387.350006   \n",
       "1479  2023-04-10  387.350006  390.000000  384.750000  388.549988  388.549988   \n",
       "1480  2023-04-11  388.549988  398.100006  388.000000  396.000000  396.000000   \n",
       "1481  2023-04-12  397.750000  397.799988  392.100006  393.549988  393.549988   \n",
       "1482  2023-04-13  395.500000  396.600006  393.700012  395.600006  395.600006   \n",
       "\n",
       "        Volume  \n",
       "0      4831017  \n",
       "1      4330981  \n",
       "2      4952956  \n",
       "3      4237611  \n",
       "4      8706432  \n",
       "...        ...  \n",
       "1478  12897667  \n",
       "1479   6783022  \n",
       "1480  18237451  \n",
       "1481   9747526  \n",
       "1482   6059044  \n",
       "\n",
       "[1483 rows x 7 columns]"
      ]
     },
     "execution_count": 3,
     "metadata": {},
     "output_type": "execute_result"
    }
   ],
   "source": [
    "df = pd.read_csv('E:\\Datasets\\ITC.csv')\n",
    "df"
   ]
  },
  {
   "cell_type": "code",
   "execution_count": 4,
   "metadata": {},
   "outputs": [
    {
     "data": {
      "text/plain": [
       "(1483, 7)"
      ]
     },
     "execution_count": 4,
     "metadata": {},
     "output_type": "execute_result"
    }
   ],
   "source": [
    "df.shape"
   ]
  },
  {
   "cell_type": "code",
   "execution_count": 5,
   "metadata": {},
   "outputs": [
    {
     "data": {
      "text/plain": [
       "[<matplotlib.lines.Line2D at 0x1ce3ecc5450>]"
      ]
     },
     "execution_count": 5,
     "metadata": {},
     "output_type": "execute_result"
    },
    {
     "data": {
      "image/png": "[encoded data removed]",
      "text/plain": [
       "<Figure size 640x480 with 1 Axes>"
      ]
     },
     "metadata": {},
     "output_type": "display_data"
    }
   ],
   "source": [
    "open = df['Open']\n",
    "plt.plot(open)"
   ]
  },
  {
   "cell_type": "code",
   "execution_count": 6,
   "metadata": {},
   "outputs": [],
   "source": [
    "ods = open.values"
   ]
  },
  {
   "cell_type": "code",
   "execution_count": 7,
   "metadata": {},
   "outputs": [
    {
     "data": {
      "text/plain": [
       "array([[0.51471467],\n",
       "       [0.52932938],\n",
       "       [0.53313311],\n",
       "       ...,\n",
       "       [0.96316312],\n",
       "       [1.        ],\n",
       "       [0.99099099]])"
      ]
     },
     "execution_count": 7,
     "metadata": {},
     "output_type": "execute_result"
    }
   ],
   "source": [
    "scaler = MinMaxScaler(feature_range=(0,1))\n",
    "scaled_ods = scaler.fit_transform(np.array(ods).reshape(-1,1))\n",
    "scaled_ods"
   ]
  },
  {
   "cell_type": "code",
   "execution_count": 8,
   "metadata": {},
   "outputs": [
    {
     "data": {
      "text/plain": [
       "(1483, 1483)"
      ]
     },
     "execution_count": 8,
     "metadata": {},
     "output_type": "execute_result"
    }
   ],
   "source": [
    "len(scaled_ods), len(ods)"
   ]
  },
  {
   "cell_type": "code",
   "execution_count": 9,
   "metadata": {},
   "outputs": [
    {
     "data": {
      "text/plain": [
       "(array([[0.47407405],\n",
       "        [0.63663664],\n",
       "        [0.3003003 ],\n",
       "        ...,\n",
       "        [0.57857858],\n",
       "        [0.26126126],\n",
       "        [0.38838839]]),\n",
       " array([[0.25185183],\n",
       "        [0.60860861],\n",
       "        [0.4522523 ],\n",
       "        [0.20580578],\n",
       "        [0.65665666],\n",
       "        [0.64864865],\n",
       "        [0.36276279],\n",
       "        [0.73313316],\n",
       "        [0.3747748 ],\n",
       "        [0.49249249],\n",
       "        [0.58018016],\n",
       "        [0.53313311],\n",
       "        [0.49809807],\n",
       "        [0.75775776],\n",
       "        [0.38438438],\n",
       "        [0.15095094],\n",
       "        [0.32772775],\n",
       "        [0.7475476 ],\n",
       "        [0.45085087],\n",
       "        [0.78518521],\n",
       "        [0.44484487],\n",
       "        [0.13213213],\n",
       "        [0.25625626],\n",
       "        [0.93693694],\n",
       "        [0.15695694],\n",
       "        [0.24824825],\n",
       "        [0.60080075],\n",
       "        [0.90890891],\n",
       "        [0.4964965 ],\n",
       "        [0.19419419],\n",
       "        [0.73673674],\n",
       "        [0.6006006 ],\n",
       "        [0.13553556],\n",
       "        [0.25705705],\n",
       "        [0.47247247],\n",
       "        [0.3855856 ],\n",
       "        [0.09489488],\n",
       "        [0.30050051],\n",
       "        [0.28828829],\n",
       "        [0.51511509],\n",
       "        [0.74874875],\n",
       "        [0.35735736],\n",
       "        [0.36856858],\n",
       "        [0.22022022],\n",
       "        [0.3239239 ],\n",
       "        [0.82282282],\n",
       "        [0.21461464],\n",
       "        [0.53493496],\n",
       "        [0.53653654],\n",
       "        [0.73613616],\n",
       "        [0.24624625],\n",
       "        [0.44444444],\n",
       "        [0.18218218],\n",
       "        [0.18618619],\n",
       "        [0.22822823],\n",
       "        [0.30390388],\n",
       "        [0.3953954 ],\n",
       "        [0.60960961],\n",
       "        [0.57257257],\n",
       "        [0.44044044],\n",
       "        [0.24784782],\n",
       "        [0.07407407],\n",
       "        [0.49809807],\n",
       "        [0.27247248],\n",
       "        [0.25225225],\n",
       "        [0.63983979],\n",
       "        [0.56336341],\n",
       "        [0.25625626],\n",
       "        [0.50850851],\n",
       "        [0.22922923],\n",
       "        [0.16416416],\n",
       "        [0.30350352],\n",
       "        [0.38238238],\n",
       "        [0.45885888],\n",
       "        [0.53733739],\n",
       "        [0.20180178],\n",
       "        [0.40740741],\n",
       "        [0.34434434],\n",
       "        [0.66666667],\n",
       "        [0.06606607],\n",
       "        [0.07807808],\n",
       "        [0.58058058],\n",
       "        [0.34674677],\n",
       "        [0.44644645],\n",
       "        [0.26426426],\n",
       "        [0.61261261],\n",
       "        [0.25325325],\n",
       "        [0.34034034],\n",
       "        [0.23263266],\n",
       "        [0.36796794],\n",
       "        [0.2238238 ],\n",
       "        [0.36076078],\n",
       "        [0.59259259],\n",
       "        [0.34034034],\n",
       "        [0.2766767 ],\n",
       "        [0.51131136],\n",
       "        [0.58858859],\n",
       "        [0.61741747],\n",
       "        [0.52452452],\n",
       "        [0.57417415],\n",
       "        [0.26506505],\n",
       "        [0.35135135],\n",
       "        [0.40840841],\n",
       "        [0.27427427],\n",
       "        [0.46166161],\n",
       "        [0.68348353],\n",
       "        [0.24344346],\n",
       "        [0.33593591],\n",
       "        [0.23623624],\n",
       "        [0.48268263],\n",
       "        [0.38238238],\n",
       "        [0.30830831],\n",
       "        [0.33693691],\n",
       "        [0.54854855],\n",
       "        [0.52852853],\n",
       "        [0.5995996 ],\n",
       "        [0.2844845 ],\n",
       "        [0.45845846],\n",
       "        [0.39759761],\n",
       "        [0.46206204],\n",
       "        [0.43443443],\n",
       "        [0.38098096],\n",
       "        [0.22642644],\n",
       "        [0.9049049 ],\n",
       "        [0.56596599],\n",
       "        [0.49829835],\n",
       "        [0.51791794],\n",
       "        [0.15835837],\n",
       "        [0.09409409],\n",
       "        [0.29229229],\n",
       "        [0.6222222 ],\n",
       "        [0.23803803],\n",
       "        [0.26026026],\n",
       "        [0.51671667],\n",
       "        [0.53693696],\n",
       "        [0.26426426],\n",
       "        [0.08208208],\n",
       "        [0.47607605],\n",
       "        [0.45645646],\n",
       "        [0.63663664],\n",
       "        [0.61561562],\n",
       "        [0.33233233],\n",
       "        [0.45245245],\n",
       "        [0.17617618],\n",
       "        [0.65425423],\n",
       "        [0.55295298],\n",
       "        [0.30670673],\n",
       "        [0.49049049],\n",
       "        [0.23383381],\n",
       "        [0.2726727 ],\n",
       "        [0.58058058],\n",
       "        [0.2982983 ],\n",
       "        [0.57617615],\n",
       "        [0.63603606],\n",
       "        [0.93313309],\n",
       "        [0.67167167],\n",
       "        [0.29489487],\n",
       "        [0.39759761],\n",
       "        [0.58458458],\n",
       "        [0.54414412],\n",
       "        [0.25905905],\n",
       "        [0.91691692],\n",
       "        [0.19699698],\n",
       "        [0.        ],\n",
       "        [0.6730731 ],\n",
       "        [0.62402405],\n",
       "        [0.75935934],\n",
       "        [0.36756758],\n",
       "        [0.52892895],\n",
       "        [0.18378376],\n",
       "        [0.00800801],\n",
       "        [0.80580581],\n",
       "        [0.18658661],\n",
       "        [0.23623624],\n",
       "        [0.54854855],\n",
       "        [0.53253253],\n",
       "        [0.1961962 ],\n",
       "        [0.58858859],\n",
       "        [0.16996996],\n",
       "        [0.58498501],\n",
       "        [0.64324322],\n",
       "        [0.7565566 ],\n",
       "        [0.44444444],\n",
       "        [0.50610608],\n",
       "        [0.16016016],\n",
       "        [0.76856862],\n",
       "        [0.93693694],\n",
       "        [0.09009009],\n",
       "        [0.49109107],\n",
       "        [0.47647648],\n",
       "        [0.36436436],\n",
       "        [0.66266266],\n",
       "        [0.5025025 ],\n",
       "        [0.77597593],\n",
       "        [0.16436438],\n",
       "        [0.2022022 ],\n",
       "        [0.30770773],\n",
       "        [0.40840841],\n",
       "        [0.50430435],\n",
       "        [0.6554555 ],\n",
       "        [0.62882878],\n",
       "        [0.48288291],\n",
       "        [0.44244244],\n",
       "        [0.25545547],\n",
       "        [0.56976972],\n",
       "        [0.48848849],\n",
       "        [0.9245245 ],\n",
       "        [0.29229229],\n",
       "        [0.65385381],\n",
       "        [0.32432432],\n",
       "        [0.38698696],\n",
       "        [0.25625626],\n",
       "        [0.77377377],\n",
       "        [0.77277277],\n",
       "        [0.52232237],\n",
       "        [0.63763764],\n",
       "        [0.53413411],\n",
       "        [0.75115118],\n",
       "        [0.24024024],\n",
       "        [0.6554555 ],\n",
       "        [0.49249249],\n",
       "        [0.24304303],\n",
       "        [0.51211209],\n",
       "        [0.50590593],\n",
       "        [0.28208207],\n",
       "        [0.43623628],\n",
       "        [0.42482485],\n",
       "        [0.96096096],\n",
       "        [0.46706704],\n",
       "        [0.38938939],\n",
       "        [0.92072077],\n",
       "        [0.52832838],\n",
       "        [0.31231231],\n",
       "        [0.31231231],\n",
       "        [0.58698701],\n",
       "        [0.53293296],\n",
       "        [0.60860861],\n",
       "        [0.64664665],\n",
       "        [0.64284279],\n",
       "        [0.46446446],\n",
       "        [0.19179177],\n",
       "        [0.48068063],\n",
       "        [0.46146146],\n",
       "        [0.56456456],\n",
       "        [0.59879875],\n",
       "        [0.50850851],\n",
       "        [0.54554555],\n",
       "        [0.16676674],\n",
       "        [0.64164164],\n",
       "        [0.33753755],\n",
       "        [0.51971967],\n",
       "        [0.31231231],\n",
       "        [0.74874875],\n",
       "        [0.39299297],\n",
       "        [0.94894895],\n",
       "        [0.26586584],\n",
       "        [0.93293293],\n",
       "        [0.20820821],\n",
       "        [0.48348348],\n",
       "        [0.52732738],\n",
       "        [0.47647648],\n",
       "        [0.4004004 ],\n",
       "        [0.23643645],\n",
       "        [0.85525528],\n",
       "        [0.65225223],\n",
       "        [0.58058058],\n",
       "        [0.4964965 ],\n",
       "        [0.52912911],\n",
       "        [0.4082082 ],\n",
       "        [0.4122122 ],\n",
       "        [0.66046051],\n",
       "        [0.50610608],\n",
       "        [0.2894895 ],\n",
       "        [0.4964965 ],\n",
       "        [0.62462462],\n",
       "        [0.58058058],\n",
       "        [0.74014016],\n",
       "        [0.93653651],\n",
       "        [0.07527529],\n",
       "        [0.67867868],\n",
       "        [0.25025025],\n",
       "        [0.47407405],\n",
       "        [0.42842843],\n",
       "        [0.28628629],\n",
       "        [0.34834835],\n",
       "        [0.26926927],\n",
       "        [0.53753754],\n",
       "        [0.24424424],\n",
       "        [0.25185183],\n",
       "        [0.24044045],\n",
       "        [0.25385383],\n",
       "        [0.36636637],\n",
       "        [0.05685684],\n",
       "        [0.29229229],\n",
       "        [0.50030035],\n",
       "        [0.65025023],\n",
       "        [0.52452452]]))"
      ]
     },
     "execution_count": 9,
     "metadata": {},
     "output_type": "execute_result"
    }
   ],
   "source": [
    "train_ods, test_ods = train_test_split(scaled_ods, test_size = 0.2)\n",
    "train_ods,test_ods"
   ]
  },
  {
   "cell_type": "code",
   "execution_count": 10,
   "metadata": {},
   "outputs": [],
   "source": [
    "def create_ds(dataset, time_step):\n",
    "    xtrain, ytrain = [], []\n",
    "    for i in range (len(dataset)-time_step-1):\n",
    "        a = dataset[i:(i+time_step),0]\n",
    "        xtrain.append(a)\n",
    "        ytrain.append(dataset[i+time_step,0])\n",
    "    return np.array(xtrain), np.array(ytrain)"
   ]
  },
  {
   "cell_type": "code",
   "execution_count": 11,
   "metadata": {},
   "outputs": [],
   "source": [
    "time_step = 100\n",
    "x_train,y_train = create_ds(train_ods,time_step)\n",
    "x_test, y_test = create_ds(test_ods, time_step)"
   ]
  },
  {
   "cell_type": "code",
   "execution_count": 12,
   "metadata": {},
   "outputs": [
    {
     "data": {
      "text/plain": [
       "((1085, 100), (1085,))"
      ]
     },
     "execution_count": 12,
     "metadata": {},
     "output_type": "execute_result"
    }
   ],
   "source": [
    "x_train.shape, y_train.shape"
   ]
  },
  {
   "cell_type": "code",
   "execution_count": 13,
   "metadata": {},
   "outputs": [
    {
     "data": {
      "text/plain": [
       "((196, 100), (196,))"
      ]
     },
     "execution_count": 13,
     "metadata": {},
     "output_type": "execute_result"
    }
   ],
   "source": [
    "x_test.shape, y_test.shape"
   ]
  },
  {
   "cell_type": "code",
   "execution_count": 14,
   "metadata": {},
   "outputs": [
    {
     "data": {
      "text/plain": [
       "((196, 100, 1), (1085, 100, 1))"
      ]
     },
     "execution_count": 14,
     "metadata": {},
     "output_type": "execute_result"
    }
   ],
   "source": [
    "x_train = x_train.reshape(x_train.shape[0], x_train.shape[1], 1)\n",
    "x_test = x_test.reshape(x_test.shape[0], x_test.shape[1], 1)\n",
    "x_test.shape, x_train.shape"
   ]
  },
  {
   "cell_type": "code",
   "execution_count": 26,
   "metadata": {},
   "outputs": [
    {
     "name": "stdout",
     "output_type": "stream",
     "text": [
      "Model: \"sequential_3\"\n",
      "_________________________________________________________________\n",
      " Layer (type)                Output Shape              Param #   \n",
      "=================================================================\n",
      " lstm_9 (LSTM)               (None, 100, 100)          40800     \n",
      "                                                                 \n",
      " lstm_10 (LSTM)              (None, 100, 100)          80400     \n",
      "                                                                 \n",
      " lstm_11 (LSTM)              (None, 100)               80400     \n",
      "                                                                 \n",
      " dense_3 (Dense)             (None, 1)                 101       \n",
      "                                                                 \n",
      "=================================================================\n",
      "Total params: 201,701\n",
      "Trainable params: 201,701\n",
      "Non-trainable params: 0\n",
      "_________________________________________________________________\n"
     ]
    }
   ],
   "source": [
    "model = tf.keras.models.Sequential([\n",
    "    tf.keras.layers.LSTM(100, return_sequences=True, input_shape = (x_train.shape[1], 1)),\n",
    "    tf.keras.layers.LSTM(100, return_sequences=True),\n",
    "    tf.keras.layers.LSTM(100),\n",
    "    tf.keras.layers.Dense(1, activation='linear')\n",
    "])\n",
    "model.summary()"
   ]
  },
  {
   "cell_type": "code",
   "execution_count": 27,
   "metadata": {},
   "outputs": [],
   "source": [
    "model.compile(\n",
    "    optimizer = 'adam',\n",
    "    loss = 'mean_squared_error'\n",
    ")"
   ]
  },
  {
   "cell_type": "code",
   "execution_count": 28,
   "metadata": {},
   "outputs": [
    {
     "name": "stdout",
     "output_type": "stream",
     "text": [
      "Epoch 1/10\n",
      "17/17 [==============================] - 26s 912ms/step - loss: 0.0697 - val_loss: 0.0460\n",
      "Epoch 2/10\n",
      "17/17 [==============================] - 12s 729ms/step - loss: 0.0421 - val_loss: 0.0426\n",
      "Epoch 3/10\n",
      "17/17 [==============================] - 13s 801ms/step - loss: 0.0412 - val_loss: 0.0431\n",
      "Epoch 4/10\n",
      "17/17 [==============================] - 15s 878ms/step - loss: 0.0416 - val_loss: 0.0424\n",
      "Epoch 5/10\n",
      "17/17 [==============================] - 15s 877ms/step - loss: 0.0413 - val_loss: 0.0460\n",
      "Epoch 6/10\n",
      "17/17 [==============================] - 15s 886ms/step - loss: 0.0410 - val_loss: 0.0424\n",
      "Epoch 7/10\n",
      "17/17 [==============================] - 17s 982ms/step - loss: 0.0409 - val_loss: 0.0421\n",
      "Epoch 8/10\n",
      "17/17 [==============================] - 16s 924ms/step - loss: 0.0408 - val_loss: 0.0428\n",
      "Epoch 9/10\n",
      "17/17 [==============================] - 17s 992ms/step - loss: 0.0417 - val_loss: 0.0429\n",
      "Epoch 10/10\n",
      "17/17 [==============================] - 15s 880ms/step - loss: 0.0410 - val_loss: 0.0421\n"
     ]
    }
   ],
   "source": [
    "history = model.fit(x_train,y_train, validation_data=(x_test, y_test), epochs=10, batch_size=64)"
   ]
  },
  {
   "cell_type": "code",
   "execution_count": 29,
   "metadata": {},
   "outputs": [
    {
     "data": {
      "text/plain": [
       "[<matplotlib.lines.Line2D at 0x1ce5d08f350>]"
      ]
     },
     "execution_count": 29,
     "metadata": {},
     "output_type": "execute_result"
    },
    {
     "data": {
      "image/png": "[encoded data removed]",
      "text/plain": [
       "<Figure size 640x480 with 1 Axes>"
      ]
     },
     "metadata": {},
     "output_type": "display_data"
    }
   ],
   "source": [
    "loss = model.history.history['loss']\n",
    "plt.plot(loss)"
   ]
  },
  {
   "cell_type": "code",
   "execution_count": null,
   "metadata": {},
   "outputs": [],
   "source": []
  }
 ],
 "metadata": {
  "kernelspec": {
   "display_name": "Python 3",
   "language": "python",
   "name": "python3"
  },
  "language_info": {
   "codemirror_mode": {
    "name": "ipython",
    "version": 3
   },
   "file_extension": ".py",
   "mimetype": "text/x-python",
   "name": "python",
   "nbconvert_exporter": "python",
   "pygments_lexer": "ipython3",
   "version": "3.11.0"
  },
  "orig_nbformat": 4
 },
 "nbformat": 4,
 "nbformat_minor": 2
}
